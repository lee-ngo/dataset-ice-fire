{
 "cells": [
  {
   "cell_type": "markdown",
   "metadata": {},
   "source": [
    "# Basic Python for Data Science: A Dataset of Ice and Fire\n",
    "\n",
    "Hello, and welcome to the Jupyter Notebook for this lesson by **Lee Ngo**! \n",
    "\n",
    "If you've gotten this far, that means you've accomplished the following:\n",
    "\n",
    "* You've installed a way to install Jupyter on your computer (we recommend Anaconda at [https://continuum.io/downloads](continuum.io/downloads))\n",
    "* You knew how to turn on Jupyter Notebook in your command prompt\n",
    "* You did it in the folder of a downloaded copy of the repo, which you can find here: [https:://github.com/lee-ngo/dataset-ice-fire](github.com/lee-ngo/dataset-ice-fire)\n",
    "\n",
    "If you've gotten this far, we're ready to go onto the next phase!\n",
    "\n",
    "# Objectives of this Lesson\n",
    "\n",
    "* Learn the basics of the Python language for data science\n",
    "* Import popular Python libraries and data files\n",
    "* Perform some Exploratory Data Analysis (EDA)\n",
    "* Complete some Data Visualization\n",
    "\n",
    "Seems like a lot, but we'll be able to get through most of this within an hour!\n",
    "\n",
    "Let's get started with some light Python to get us warmed up. \n",
    "Great if you're already familiar with the language, but here are some warm-up commands to get started.\n",
    "\n",
    "# Basics of the Python language\n",
    "\n",
    "We're certainly not going to cover EVERYTHING one could learn in Python - that takes a lifetime. \n",
    "For our purposes, it helps to understand certain key concepts. \n",
    "\n",
    "Let's start with **data types**.\n",
    "\n",
    "### Data Types in Python\n",
    "\n",
    "There are **five** common data types in Python:\n",
    "\n",
    "* `int` - integer value\n",
    "* `float` - decimal value\n",
    "* `bool` - True/False\n",
    "* `complex` - imaginary\n",
    "* `NoneType` - null value\n",
    "\n",
    "## TIME TO CODE!\n",
    "\n",
    "Let's try to identify some data types below. *Predict the outputs \n",
    "of the following commands and run them.*"
   ]
  },
  {
   "cell_type": "code",
   "execution_count": 4,
   "metadata": {
    "collapsed": false
   },
   "outputs": [
    {
     "data": {
      "text/plain": [
       "int"
      ]
     },
     "execution_count": 4,
     "metadata": {},
     "output_type": "execute_result"
    }
   ],
   "source": [
    "type(454)"
   ]
  },
  {
   "cell_type": "code",
   "execution_count": 5,
   "metadata": {
    "collapsed": false
   },
   "outputs": [
    {
     "data": {
      "text/plain": [
       "float"
      ]
     },
     "execution_count": 5,
     "metadata": {},
     "output_type": "execute_result"
    }
   ],
   "source": [
    "type(2.1648)"
   ]
  },
  {
   "cell_type": "code",
   "execution_count": 6,
   "metadata": {
    "collapsed": false
   },
   "outputs": [
    {
     "data": {
      "text/plain": [
       "bool"
      ]
     },
     "execution_count": 6,
     "metadata": {},
     "output_type": "execute_result"
    }
   ],
   "source": [
    "type(5 + 6 == 10) # You can put expressions in them as well!"
   ]
  },
  {
   "cell_type": "code",
   "execution_count": 7,
   "metadata": {
    "collapsed": false
   },
   "outputs": [
    {
     "data": {
      "text/plain": [
       "complex"
      ]
     },
     "execution_count": 7,
     "metadata": {},
     "output_type": "execute_result"
    }
   ],
   "source": [
    "type(5 + 72j)"
   ]
  },
  {
   "cell_type": "code",
   "execution_count": 8,
   "metadata": {
    "collapsed": false
   },
   "outputs": [
    {
     "data": {
      "text/plain": [
       "NoneType"
      ]
     },
     "execution_count": 8,
     "metadata": {},
     "output_type": "execute_result"
    }
   ],
   "source": [
    "type(None)"
   ]
  },
  {
   "cell_type": "markdown",
   "metadata": {},
   "source": [
    "Identifying data types will be helpful later on, as having conflicting types can lead to messy data science.\n",
    "\n",
    "### 'Arrays' in Python\n",
    "\n",
    "Data can also be stored, arranged, and organized in ways that lend itself to a lot of great analysis. \n",
    "Here are the types of data one might work with here.\n",
    "\n",
    "Note: the term 'immutable' means that items within the object cannot be changed unless the entire object changes as well.\n",
    "\n",
    "* `str` - string/varchar immutable value, defined with quotes = ‘abc’\n",
    "* `list` - collection of elements, defined with brackets = [‘a’, ‘b’]\n",
    "* `tuple` - immutable list, defined with parentheses = (‘a’, ‘b’)\n",
    "* `dict` - unordered key-value pairs, keys are unique and immutable, defined with braces = {‘a’:1, ‘b’:2}\n",
    "* `set` - unordered collection of unique elements, defined with braces = {‘a’, ‘b’}\n",
    "\n",
    "For this lesson, we'll mostly be working in strings, lists, and dictionaries. Let's play around with a basic one below.\n",
    "\n",
    "## TIME TO CODE\n",
    "\n",
    "Create a list below called `house` and set the the value of the items to the following, in this order (include the quotes and separate the values with a comma):\n",
    "\n",
    "* 'Targaryen'\n",
    "* 'Stark'\n",
    "* 'Lannister'\n",
    "* 'Tyrell'\n",
    "* 'Tully'\n",
    "* 'Arryn'\n",
    "* 'Martell'\n",
    "* 'Baratheon'\n",
    "* 'Greyjoy'"
   ]
  },
  {
   "cell_type": "code",
   "execution_count": 9,
   "metadata": {
    "collapsed": true
   },
   "outputs": [],
   "source": [
    "house = ['Targaryen','Stark','Lannister','Tyrell','Tully','Aaryn','Martell','Baratheon','Greyjoy']"
   ]
  },
  {
   "cell_type": "markdown",
   "metadata": {},
   "source": [
    "Let's do some super-basic data exploration. What happens if you type in ```house[5]```?"
   ]
  },
  {
   "cell_type": "code",
   "execution_count": 10,
   "metadata": {
    "collapsed": false
   },
   "outputs": [
    {
     "data": {
      "text/plain": [
       "'Aaryn'"
      ]
     },
     "execution_count": 10,
     "metadata": {},
     "output_type": "execute_result"
    }
   ],
   "source": [
    "house[5]"
   ]
  },
  {
   "cell_type": "markdown",
   "metadata": {},
   "source": [
    "Yep, you get the *sixth* item in the list. A common standard in most coding languages, lists are automatically indexed upon creation, starting at 0. This will be helpful to know when you're trying to look for certain items in a list by order - they will be at the `nth - 1` index.\n",
    "\n",
    "### Functions and Methods - Let's do more with these objects!\n",
    "\n",
    "We're going to be working a lot with functions and methods to do some cool things with our data. \n",
    "\n",
    "First, _what's the difference between the two?_\n",
    "\n",
    "* A **function** is a programming construct that allows us to do a little bit more with the objects we created.\n",
    "\n",
    "* A **method** is a function specific to a **class**, and it is accessed using an instance/object within the class.\n",
    "\n",
    "* A **class** is a user-defined prototype for an objecct that defines a set of attributes and characteristics of any object within them, including variables and methods.\n",
    "\n",
    "Don't worry if you're a little confused - we'll learn more through practice.\n",
    "\n",
    "Another good way to remember: *all methods are functions, but not all functions are methods.*\n",
    "\n",
    "## TIME TO CODE!\n",
    "\n",
    "Let's start with some pretty basic mathematical functions. _What will the following functions return if you run them?_"
   ]
  },
  {
   "cell_type": "code",
   "execution_count": 11,
   "metadata": {
    "collapsed": false
   },
   "outputs": [
    {
     "data": {
      "text/plain": [
       "'Winter is coming!'"
      ]
     },
     "execution_count": 11,
     "metadata": {},
     "output_type": "execute_result"
    }
   ],
   "source": [
    "def words_of_stark():\n",
    "    return \"Winter is coming!\"\n",
    "\n",
    "words_of_stark()"
   ]
  },
  {
   "cell_type": "code",
   "execution_count": 12,
   "metadata": {
    "collapsed": false
   },
   "outputs": [
    {
     "data": {
      "text/plain": [
       "\"Jon Snow is now romantically involved with Danaerys Targaryen. Hope they're not related!\""
      ]
     },
     "execution_count": 12,
     "metadata": {},
     "output_type": "execute_result"
    }
   ],
   "source": [
    "def shipping(x,y):\n",
    "    return x + \" is now romantically involved with \" + y + \". Hope they're not related!\"\n",
    "\n",
    "shipping(\"Jon Snow\",\"Danaerys Targaryen\") # Sorry, spoiler alert."
   ]
  },
  {
   "cell_type": "markdown",
   "metadata": {},
   "source": [
    "Well, that was fun, but I don't want to have to re-invent the wheel. \n",
    "Fortunately the Python community has developed a lot of rich **libraries** full of classes for us to work with so that we don't have to constant define them.\n",
    "\n",
    "We access them by **importing**.\n",
    "\n",
    "### Importing Libraries\n",
    "\n",
    "We're going to be working with two in particular for this lesson:\n",
    "\n",
    "* `Pandas` - a data analysis library in Python, completely free to use. (pandas.pydata.org)\n",
    "* `Matplotlib` - a 2D p lotting library to create some decent visualizations on our data.\n",
    "\n",
    "We'll be importing both of them and using them throughout the lesson. Below is the code to import. Be sure to run it so that it applies to the subsequent code."
   ]
  },
  {
   "cell_type": "code",
   "execution_count": 13,
   "metadata": {
    "collapsed": false
   },
   "outputs": [],
   "source": [
    "import pandas as pd # We use this shortened syntax to type less later on\n",
    "import matplotlib.pyplot as plt # Specifically, we're using the PyPlot class and again, a shortened syntax\n",
    "%matplotlib inline \n",
    "# This handy command above allows us to see our visualizations instantly, if written correctly"
   ]
  },
  {
   "cell_type": "markdown",
   "metadata": {},
   "source": [
    "Awesome! Now we're ready to start working with the dataset.\n",
    "\n",
    "### About This Dataset You're About to Import\n",
    "\n",
    "I originally found this while searching for fun _Game of Thrones_-based data, and I found one by **Chris Albon**, a major contributor to the data science community. I felt it was perfect teach some of the basics in Python for data science, especially the core concepts of how to think scientifically, even on make-believe fantasy data.\n",
    "\n",
    "You can find the original dataset here: https://github.com/chrisalbon/war_of_the_five_kings_dataset\n",
    "\n",
    "Out of respect to him, I've left it unchanged. You now have a copy of it as well. Use the code below to import it:"
   ]
  },
  {
   "cell_type": "code",
   "execution_count": 14,
   "metadata": {
    "collapsed": true
   },
   "outputs": [],
   "source": [
    "raw_dataframe = pd.read_csv(\"war_of_the_five_kings_dataset.csv\")"
   ]
  },
  {
   "cell_type": "markdown",
   "metadata": {},
   "source": [
    "We've now created an object called `raw_dataframe` that contains all of the data from the csv file, converted into a Pandas-based dataframe. This will allow us to do a lot of great exploratory things.\n",
    "\n",
    "## Basic Exploratory Data Analysis\n",
    "\n",
    "Let's take a look in our data by using the `.head()` method, which allows us to see the top few rows of data according to the number of rows we'd like to see. Run the code below."
   ]
  },
  {
   "cell_type": "code",
   "execution_count": 15,
   "metadata": {
    "collapsed": false
   },
   "outputs": [
    {
     "data": {
      "text/html": [
       "<div>\n",
       "<table border=\"1\" class=\"dataframe\">\n",
       "  <thead>\n",
       "    <tr style=\"text-align: right;\">\n",
       "      <th></th>\n",
       "      <th>name</th>\n",
       "      <th>year</th>\n",
       "      <th>battle_number</th>\n",
       "      <th>attacker_king</th>\n",
       "      <th>defender_king</th>\n",
       "      <th>attacker_1</th>\n",
       "      <th>attacker_2</th>\n",
       "      <th>attacker_3</th>\n",
       "      <th>attacker_4</th>\n",
       "      <th>defender_1</th>\n",
       "      <th>...</th>\n",
       "      <th>major_death</th>\n",
       "      <th>major_capture</th>\n",
       "      <th>attacker_size</th>\n",
       "      <th>defender_size</th>\n",
       "      <th>attacker_commander</th>\n",
       "      <th>defender_commander</th>\n",
       "      <th>summer</th>\n",
       "      <th>location</th>\n",
       "      <th>region</th>\n",
       "      <th>note</th>\n",
       "    </tr>\n",
       "  </thead>\n",
       "  <tbody>\n",
       "    <tr>\n",
       "      <th>0</th>\n",
       "      <td>Battle of the Golden Tooth</td>\n",
       "      <td>298</td>\n",
       "      <td>1</td>\n",
       "      <td>Joffrey/Tommen Baratheon</td>\n",
       "      <td>Robb Stark</td>\n",
       "      <td>Lannister</td>\n",
       "      <td>NaN</td>\n",
       "      <td>NaN</td>\n",
       "      <td>NaN</td>\n",
       "      <td>Tully</td>\n",
       "      <td>...</td>\n",
       "      <td>1.0</td>\n",
       "      <td>0.0</td>\n",
       "      <td>15000.0</td>\n",
       "      <td>4000.0</td>\n",
       "      <td>Jaime Lannister</td>\n",
       "      <td>Clement Piper, Vance</td>\n",
       "      <td>1.0</td>\n",
       "      <td>Golden Tooth</td>\n",
       "      <td>The Westerlands</td>\n",
       "      <td>NaN</td>\n",
       "    </tr>\n",
       "    <tr>\n",
       "      <th>1</th>\n",
       "      <td>Battle at the Mummer's Ford</td>\n",
       "      <td>298</td>\n",
       "      <td>2</td>\n",
       "      <td>Joffrey/Tommen Baratheon</td>\n",
       "      <td>Robb Stark</td>\n",
       "      <td>Lannister</td>\n",
       "      <td>NaN</td>\n",
       "      <td>NaN</td>\n",
       "      <td>NaN</td>\n",
       "      <td>Baratheon</td>\n",
       "      <td>...</td>\n",
       "      <td>1.0</td>\n",
       "      <td>0.0</td>\n",
       "      <td>NaN</td>\n",
       "      <td>120.0</td>\n",
       "      <td>Gregor Clegane</td>\n",
       "      <td>Beric Dondarrion</td>\n",
       "      <td>1.0</td>\n",
       "      <td>Mummer's Ford</td>\n",
       "      <td>The Riverlands</td>\n",
       "      <td>NaN</td>\n",
       "    </tr>\n",
       "    <tr>\n",
       "      <th>2</th>\n",
       "      <td>Battle of Riverrun</td>\n",
       "      <td>298</td>\n",
       "      <td>3</td>\n",
       "      <td>Joffrey/Tommen Baratheon</td>\n",
       "      <td>Robb Stark</td>\n",
       "      <td>Lannister</td>\n",
       "      <td>NaN</td>\n",
       "      <td>NaN</td>\n",
       "      <td>NaN</td>\n",
       "      <td>Tully</td>\n",
       "      <td>...</td>\n",
       "      <td>0.0</td>\n",
       "      <td>1.0</td>\n",
       "      <td>15000.0</td>\n",
       "      <td>10000.0</td>\n",
       "      <td>Jaime Lannister, Andros Brax</td>\n",
       "      <td>Edmure Tully, Tytos Blackwood</td>\n",
       "      <td>1.0</td>\n",
       "      <td>Riverrun</td>\n",
       "      <td>The Riverlands</td>\n",
       "      <td>NaN</td>\n",
       "    </tr>\n",
       "  </tbody>\n",
       "</table>\n",
       "<p>3 rows × 25 columns</p>\n",
       "</div>"
      ],
      "text/plain": [
       "                          name  year  battle_number             attacker_king  \\\n",
       "0   Battle of the Golden Tooth   298              1  Joffrey/Tommen Baratheon   \n",
       "1  Battle at the Mummer's Ford   298              2  Joffrey/Tommen Baratheon   \n",
       "2           Battle of Riverrun   298              3  Joffrey/Tommen Baratheon   \n",
       "\n",
       "  defender_king attacker_1 attacker_2 attacker_3 attacker_4 defender_1 ...   \\\n",
       "0    Robb Stark  Lannister        NaN        NaN        NaN      Tully ...    \n",
       "1    Robb Stark  Lannister        NaN        NaN        NaN  Baratheon ...    \n",
       "2    Robb Stark  Lannister        NaN        NaN        NaN      Tully ...    \n",
       "\n",
       "  major_death  major_capture  attacker_size defender_size  \\\n",
       "0         1.0            0.0        15000.0        4000.0   \n",
       "1         1.0            0.0            NaN         120.0   \n",
       "2         0.0            1.0        15000.0       10000.0   \n",
       "\n",
       "             attacker_commander             defender_commander  summer  \\\n",
       "0               Jaime Lannister           Clement Piper, Vance     1.0   \n",
       "1                Gregor Clegane               Beric Dondarrion     1.0   \n",
       "2  Jaime Lannister, Andros Brax  Edmure Tully, Tytos Blackwood     1.0   \n",
       "\n",
       "        location           region note  \n",
       "0   Golden Tooth  The Westerlands  NaN  \n",
       "1  Mummer's Ford   The Riverlands  NaN  \n",
       "2       Riverrun   The Riverlands  NaN  \n",
       "\n",
       "[3 rows x 25 columns]"
      ]
     },
     "execution_count": 15,
     "metadata": {},
     "output_type": "execute_result"
    }
   ],
   "source": [
    "raw_dataframe.head(3) # This should show 3 rows, starting at index 0."
   ]
  },
  {
   "cell_type": "markdown",
   "metadata": {},
   "source": [
    "You now can catch a glimpse of what's in this data set! Wait a minute...\n",
    "What happens to the data after column `defender_1`? There's an ... ellipsis?\n",
    "This dataset is actually very _wide_. Pandas is doing us a favor by ignoring some of those columns.\n",
    "\n",
    "Let's make them **visible** by changing a small feature of our Pandas import:"
   ]
  },
  {
   "cell_type": "code",
   "execution_count": 16,
   "metadata": {
    "collapsed": true
   },
   "outputs": [],
   "source": [
    "pd.set_option('display.max_columns', None)"
   ]
  },
  {
   "cell_type": "markdown",
   "metadata": {},
   "source": [
    "This little bit of code now makes it so that the `display` class of our Pandas library has no limit to the number of columns it sends. Try running the `.head()` method again to see if it worked."
   ]
  },
  {
   "cell_type": "code",
   "execution_count": 17,
   "metadata": {
    "collapsed": false
   },
   "outputs": [
    {
     "data": {
      "text/html": [
       "<div>\n",
       "<table border=\"1\" class=\"dataframe\">\n",
       "  <thead>\n",
       "    <tr style=\"text-align: right;\">\n",
       "      <th></th>\n",
       "      <th>name</th>\n",
       "      <th>year</th>\n",
       "      <th>battle_number</th>\n",
       "      <th>attacker_king</th>\n",
       "      <th>defender_king</th>\n",
       "      <th>attacker_1</th>\n",
       "      <th>attacker_2</th>\n",
       "      <th>attacker_3</th>\n",
       "      <th>attacker_4</th>\n",
       "      <th>defender_1</th>\n",
       "      <th>defender_2</th>\n",
       "      <th>defender_3</th>\n",
       "      <th>defender_4</th>\n",
       "      <th>attacker_outcome</th>\n",
       "      <th>battle_type</th>\n",
       "      <th>major_death</th>\n",
       "      <th>major_capture</th>\n",
       "      <th>attacker_size</th>\n",
       "      <th>defender_size</th>\n",
       "      <th>attacker_commander</th>\n",
       "      <th>defender_commander</th>\n",
       "      <th>summer</th>\n",
       "      <th>location</th>\n",
       "      <th>region</th>\n",
       "      <th>note</th>\n",
       "    </tr>\n",
       "  </thead>\n",
       "  <tbody>\n",
       "    <tr>\n",
       "      <th>0</th>\n",
       "      <td>Battle of the Golden Tooth</td>\n",
       "      <td>298</td>\n",
       "      <td>1</td>\n",
       "      <td>Joffrey/Tommen Baratheon</td>\n",
       "      <td>Robb Stark</td>\n",
       "      <td>Lannister</td>\n",
       "      <td>NaN</td>\n",
       "      <td>NaN</td>\n",
       "      <td>NaN</td>\n",
       "      <td>Tully</td>\n",
       "      <td>NaN</td>\n",
       "      <td>NaN</td>\n",
       "      <td>NaN</td>\n",
       "      <td>win</td>\n",
       "      <td>pitched battle</td>\n",
       "      <td>1.0</td>\n",
       "      <td>0.0</td>\n",
       "      <td>15000.0</td>\n",
       "      <td>4000.0</td>\n",
       "      <td>Jaime Lannister</td>\n",
       "      <td>Clement Piper, Vance</td>\n",
       "      <td>1.0</td>\n",
       "      <td>Golden Tooth</td>\n",
       "      <td>The Westerlands</td>\n",
       "      <td>NaN</td>\n",
       "    </tr>\n",
       "    <tr>\n",
       "      <th>1</th>\n",
       "      <td>Battle at the Mummer's Ford</td>\n",
       "      <td>298</td>\n",
       "      <td>2</td>\n",
       "      <td>Joffrey/Tommen Baratheon</td>\n",
       "      <td>Robb Stark</td>\n",
       "      <td>Lannister</td>\n",
       "      <td>NaN</td>\n",
       "      <td>NaN</td>\n",
       "      <td>NaN</td>\n",
       "      <td>Baratheon</td>\n",
       "      <td>NaN</td>\n",
       "      <td>NaN</td>\n",
       "      <td>NaN</td>\n",
       "      <td>win</td>\n",
       "      <td>ambush</td>\n",
       "      <td>1.0</td>\n",
       "      <td>0.0</td>\n",
       "      <td>NaN</td>\n",
       "      <td>120.0</td>\n",
       "      <td>Gregor Clegane</td>\n",
       "      <td>Beric Dondarrion</td>\n",
       "      <td>1.0</td>\n",
       "      <td>Mummer's Ford</td>\n",
       "      <td>The Riverlands</td>\n",
       "      <td>NaN</td>\n",
       "    </tr>\n",
       "    <tr>\n",
       "      <th>2</th>\n",
       "      <td>Battle of Riverrun</td>\n",
       "      <td>298</td>\n",
       "      <td>3</td>\n",
       "      <td>Joffrey/Tommen Baratheon</td>\n",
       "      <td>Robb Stark</td>\n",
       "      <td>Lannister</td>\n",
       "      <td>NaN</td>\n",
       "      <td>NaN</td>\n",
       "      <td>NaN</td>\n",
       "      <td>Tully</td>\n",
       "      <td>NaN</td>\n",
       "      <td>NaN</td>\n",
       "      <td>NaN</td>\n",
       "      <td>win</td>\n",
       "      <td>pitched battle</td>\n",
       "      <td>0.0</td>\n",
       "      <td>1.0</td>\n",
       "      <td>15000.0</td>\n",
       "      <td>10000.0</td>\n",
       "      <td>Jaime Lannister, Andros Brax</td>\n",
       "      <td>Edmure Tully, Tytos Blackwood</td>\n",
       "      <td>1.0</td>\n",
       "      <td>Riverrun</td>\n",
       "      <td>The Riverlands</td>\n",
       "      <td>NaN</td>\n",
       "    </tr>\n",
       "  </tbody>\n",
       "</table>\n",
       "</div>"
      ],
      "text/plain": [
       "                          name  year  battle_number             attacker_king  \\\n",
       "0   Battle of the Golden Tooth   298              1  Joffrey/Tommen Baratheon   \n",
       "1  Battle at the Mummer's Ford   298              2  Joffrey/Tommen Baratheon   \n",
       "2           Battle of Riverrun   298              3  Joffrey/Tommen Baratheon   \n",
       "\n",
       "  defender_king attacker_1 attacker_2 attacker_3 attacker_4 defender_1  \\\n",
       "0    Robb Stark  Lannister        NaN        NaN        NaN      Tully   \n",
       "1    Robb Stark  Lannister        NaN        NaN        NaN  Baratheon   \n",
       "2    Robb Stark  Lannister        NaN        NaN        NaN      Tully   \n",
       "\n",
       "  defender_2  defender_3  defender_4 attacker_outcome     battle_type  \\\n",
       "0        NaN         NaN         NaN              win  pitched battle   \n",
       "1        NaN         NaN         NaN              win          ambush   \n",
       "2        NaN         NaN         NaN              win  pitched battle   \n",
       "\n",
       "   major_death  major_capture  attacker_size  defender_size  \\\n",
       "0          1.0            0.0        15000.0         4000.0   \n",
       "1          1.0            0.0            NaN          120.0   \n",
       "2          0.0            1.0        15000.0        10000.0   \n",
       "\n",
       "             attacker_commander             defender_commander  summer  \\\n",
       "0               Jaime Lannister           Clement Piper, Vance     1.0   \n",
       "1                Gregor Clegane               Beric Dondarrion     1.0   \n",
       "2  Jaime Lannister, Andros Brax  Edmure Tully, Tytos Blackwood     1.0   \n",
       "\n",
       "        location           region note  \n",
       "0   Golden Tooth  The Westerlands  NaN  \n",
       "1  Mummer's Ford   The Riverlands  NaN  \n",
       "2       Riverrun   The Riverlands  NaN  "
      ]
     },
     "execution_count": 17,
     "metadata": {},
     "output_type": "execute_result"
    }
   ],
   "source": [
    "raw_dataframe.head(3)"
   ]
  },
  {
   "cell_type": "markdown",
   "metadata": {},
   "source": [
    "Great! We can now see _all_ of the columns of data! This little bit of code is handy for customizing your libraries in the future.\n",
    "\n",
    "Let's do one more key bit of code, drawing back to our very first lesson:"
   ]
  },
  {
   "cell_type": "code",
   "execution_count": 18,
   "metadata": {
    "collapsed": false
   },
   "outputs": [
    {
     "name": "stdout",
     "output_type": "stream",
     "text": [
      "<class 'pandas.core.frame.DataFrame'>\n",
      "RangeIndex: 38 entries, 0 to 37\n",
      "Data columns (total 25 columns):\n",
      "name                  38 non-null object\n",
      "year                  38 non-null int64\n",
      "battle_number         38 non-null int64\n",
      "attacker_king         36 non-null object\n",
      "defender_king         35 non-null object\n",
      "attacker_1            38 non-null object\n",
      "attacker_2            10 non-null object\n",
      "attacker_3            3 non-null object\n",
      "attacker_4            2 non-null object\n",
      "defender_1            37 non-null object\n",
      "defender_2            2 non-null object\n",
      "defender_3            0 non-null float64\n",
      "defender_4            0 non-null float64\n",
      "attacker_outcome      37 non-null object\n",
      "battle_type           37 non-null object\n",
      "major_death           37 non-null float64\n",
      "major_capture         37 non-null float64\n",
      "attacker_size         24 non-null float64\n",
      "defender_size         19 non-null float64\n",
      "attacker_commander    37 non-null object\n",
      "defender_commander    28 non-null object\n",
      "summer                37 non-null float64\n",
      "location              37 non-null object\n",
      "region                38 non-null object\n",
      "note                  5 non-null object\n",
      "dtypes: float64(7), int64(2), object(16)\n",
      "memory usage: 7.5+ KB\n"
     ]
    }
   ],
   "source": [
    "raw_dataframe.info()"
   ]
  },
  {
   "cell_type": "markdown",
   "metadata": {},
   "source": [
    "Here's another way for us to look at our data and see what types exit within them, indexed by key.\n",
    "So far we know that there are 38 data points overall, and some of those points are written as integers, others as float objects.\n",
    "These are all default data assignments by Pandas, but as we dive deeper, we'll care a little bit more about which is which.\n",
    "\n",
    "## SO, WHAT DO YOU WANT TO KNOW?\n",
    "\n",
    "We've imported our libraries and our dataset, and we have a decent idea as to what's in them. What's next?\n",
    "\n",
    "The first rule about being a data scientist: **it's not about the tools, it's about the questions to answer.**\n",
    "\n",
    "We are _scientists_ first and foremost, thus we must begin all of our exercises with a question we hope the data will answer.\n",
    "In an era where there's oceans of data generated, we then need tools and people to use them properly to answer questions.\n",
    "\n",
    "For now, we're dealing with a small dataset: a quantiative documentation of the results of the War of the Five Kings, including:\n",
    "\n",
    "* Participating Houses\n",
    "* Participating \"Kings\" of Those Houses\n",
    "* Participants in each battle, including attacks and defenders\n",
    "* Army sizes\n",
    "* Outcome of the battle (based on the attacker's perspective)\n",
    "* Name of the battle\n",
    "\n",
    "There's a lot more we could cover, but I'll try to focus on one particular King: **Robb Stark.**\n",
    "\n",
    "### Analyzing 'The King in the North'\n",
    "\n",
    "Sure, things didn't exactly work out well for \"The Young Wolf\" (spoiler, although it's actually mentioned _in this dataset_), but his end overshadowed what was otherwise an impressive military campaign. \n",
    "\n",
    "We can answer some pretty simple questions about his performance in this war, such as:\n",
    "\n",
    "* How many battles did Robb Stark fight in?\n",
    "* How many battles did Robb Stark win as an attacker?\n",
    "* How many battles did Robb Stark win overall?\n",
    "\n",
    "Let's start with just those 3.\n",
    "\n",
    "## TIME TO CODE!\n",
    "\n",
    "First, we have to group the data in such as way so that we can analyze it.\n",
    "Let's make a new dataframe called `df`, cloned from the existing one with the `.copy()` method."
   ]
  },
  {
   "cell_type": "code",
   "execution_count": 19,
   "metadata": {
    "collapsed": true
   },
   "outputs": [],
   "source": [
    "df = raw_dataframe.copy()"
   ]
  },
  {
   "cell_type": "markdown",
   "metadata": {},
   "source": [
    "#### How many battles did Robb Stark fight in?\n",
    "\n",
    "A quick glance in the dataset shows that Robb Stark fought in battles as both an attacker and as a defender.\n",
    "\n",
    "We'll need to create sub-dataframes that isolate those key_values:"
   ]
  },
  {
   "cell_type": "code",
   "execution_count": 20,
   "metadata": {
    "collapsed": false
   },
   "outputs": [],
   "source": [
    "robb_off = df[df['attacker_king'] == 'Robb Stark']\n",
    "robb_def = df[df['defender_king'] == 'Robb Stark']"
   ]
  },
  {
   "cell_type": "markdown",
   "metadata": {},
   "source": [
    "Whoa, that looks a little complex. Let's break it down. We've created two objects: `robb_off` for whenever Robb Stark attacked (i.e. on the \"offensive), and `robb_def` for whenever Robb Stark defended. \n",
    "\n",
    "We're requesting in Python to set these objects equal to the dataframe dictionary for whenever the key of `attacker_king` and `defender_king` is equivalent to the value of `Robb Stark`. \n",
    "\n",
    "Feel free to use `.head()` on each object to see if it worked.\n",
    "\n",
    "From here, it's as simple as counting the rows for each using the `len()` function, which gives us the \"length\" of a dataset according to the number of indexed items (in this case - rows). \n",
    "\n",
    "Here's the code, setting it equal to a new variable:"
   ]
  },
  {
   "cell_type": "code",
   "execution_count": 21,
   "metadata": {
    "collapsed": false
   },
   "outputs": [
    {
     "data": {
      "text/plain": [
       "24"
      ]
     },
     "execution_count": 21,
     "metadata": {},
     "output_type": "execute_result"
    }
   ],
   "source": [
    "robb_total = len(robb_off) + len(robb_def)\n",
    "robb_total"
   ]
  },
  {
   "cell_type": "markdown",
   "metadata": {},
   "source": [
    "In other words, Robb Stark was involved in nearly 2/3 of all the battles fought during the War of the Five Kings.\n",
    "\n",
    "_But how good of a war commander was he?_\n",
    "\n",
    "#### How many battles did Robb Stark win as an attacker?\n",
    "\n",
    "We can build upon the objects we've already built. We have the object for the number of battles Robb fought as an attacker, so let's create one involving him as an attacker AND a victor, still drawing from the original data source:"
   ]
  },
  {
   "cell_type": "code",
   "execution_count": 22,
   "metadata": {
    "collapsed": false
   },
   "outputs": [],
   "source": [
    "robb_off_win = robb_off[robb_off['attacker_outcome'] == 'win']"
   ]
  },
  {
   "cell_type": "markdown",
   "metadata": {},
   "source": [
    "Using the same strategy as before, we're now looking into the sub-dataframe `robb_off` for whenever the key `attacker_outcome` has a value `win`.\n",
    "\n",
    "From there, it's a simple `len()` method."
   ]
  },
  {
   "cell_type": "code",
   "execution_count": 23,
   "metadata": {
    "collapsed": false
   },
   "outputs": [
    {
     "data": {
      "text/plain": [
       "8"
      ]
     },
     "execution_count": 23,
     "metadata": {},
     "output_type": "execute_result"
    }
   ],
   "source": [
    "len(robb_off_win)"
   ]
  },
  {
   "cell_type": "markdown",
   "metadata": {},
   "source": [
    "Cool! Robb Stark won 8 of the battles he fought as an attacker. What about all the battles he won, including the ones as a defender?\n",
    "\n",
    "We apply the same method, but remember - victories are according to the attacker's perspective. We need times when the attacker has **lost** to add to Robb's scoreboard."
   ]
  },
  {
   "cell_type": "code",
   "execution_count": 24,
   "metadata": {
    "collapsed": true
   },
   "outputs": [],
   "source": [
    "robb_def_win = robb_def[robb_def['attacker_outcome'] == 'loss']"
   ]
  },
  {
   "cell_type": "markdown",
   "metadata": {},
   "source": [
    "Adding these two variables together gets you the number of overall victories:"
   ]
  },
  {
   "cell_type": "code",
   "execution_count": 25,
   "metadata": {
    "collapsed": false
   },
   "outputs": [
    {
     "data": {
      "text/plain": [
       "9"
      ]
     },
     "execution_count": 25,
     "metadata": {},
     "output_type": "execute_result"
    }
   ],
   "source": [
    "len(robb_off_win + robb_def_win)"
   ]
  },
  {
   "cell_type": "markdown",
   "metadata": {},
   "source": [
    ".... Wait, only 9? Out of the total number of battles Robb Stark fought, he was successful as a attacker but not great on the defensive. Overall, winning 9 out of 24 battles is really not that impressive.\n",
    "\n",
    "Perhaps 'The Young Wolf' wasn't as impressive as we thought...\n",
    "\n",
    "#### Try answering some more questions:\n",
    "\n",
    "* _What was the average size of Robb Stark's armies against those defending against him?_\n",
    "* _How did the Lanninster/Baratheons fare in the War of the Five Kings?_ \n",
    "* _Which king had the highest winning percentages? (Requires some light statistics...)_\n",
    "* _Who was the most effective commander (there are several to choose from)?_\n",
    "\n",
    "**Try some other methods as well in Pandas:**\n",
    "\n",
    "* `.mean()` - gives you the average of some value (you have to designate the key-value in some cases)\n",
    "* `.median()` - returns the median value of an object\n",
    "* `.min()` - gives you the lowest value in that array\n",
    "* `.fillna(0.0).astype(int)` - this is a way to get rid of all the float objects in your dataset. \n",
    "* `.describe()` - gives you an overview of the object's data, according to counts, unique values, and data types\n",
    "\n",
    "Now that you have a light understanding of how data analysis is done, let's create some visualizations!\n",
    "\n",
    "## Creating Data Visualizations in Python\n",
    "\n",
    "Relying a lot on **Matplotlib** here, data visualizations allow us to better communicate and understand the information we're able to create through our analyses.\n",
    "\n",
    "Let's try to do a few based on the questions we've already resolved so far. Let's create some **bar graphs.**\n",
    "\n",
    "First, let's create a new object `robb_off_viz` that measures what's going on in our `robb_off` object, using two more methods:\n",
    "* `.groupby()` - calculating the unique values in a particular key\n",
    "* `.len()` - measuring them by their \"length\" or number of rows"
   ]
  },
  {
   "cell_type": "code",
   "execution_count": 26,
   "metadata": {
    "collapsed": false
   },
   "outputs": [],
   "source": [
    "robb_off_viz = robb_off.groupby('attacker_outcome').apply(len)"
   ]
  },
  {
   "cell_type": "markdown",
   "metadata": {},
   "source": [
    "Now, we can create a simple bar graph with the code below and setting the y label with a few more methods."
   ]
  },
  {
   "cell_type": "code",
   "execution_count": 27,
   "metadata": {
    "collapsed": false
   },
   "outputs": [
    {
     "data": {
      "text/plain": [
       "<matplotlib.text.Text at 0x9b06390>"
      ]
     },
     "execution_count": 27,
     "metadata": {},
     "output_type": "execute_result"
    },
    {
     "data": {
      "image/png": "[encoded data removed]",
      "text/plain": [
       "<matplotlib.figure.Figure at 0x9a27e48>"
      ]
     },
     "metadata": {},
     "output_type": "display_data"
    }
   ],
   "source": [
    "robb_off_viz.plot(kind='bar').set_ylabel('# of Battles')"
   ]
  },
  {
   "cell_type": "markdown",
   "metadata": {},
   "source": [
    "Let's compare that with a plot for Robb Stark's defense. Remember, in this graph, Robb is the defender, so his \"wins\" are in the \"loss\" column below."
   ]
  },
  {
   "cell_type": "code",
   "execution_count": 28,
   "metadata": {
    "collapsed": false
   },
   "outputs": [
    {
     "data": {
      "text/plain": [
       "<matplotlib.text.Text at 0x9d5b278>"
      ]
     },
     "execution_count": 28,
     "metadata": {},
     "output_type": "execute_result"
    },
    {
     "data": {
      "image/png": "[encoded data removed]",
      "text/plain": [
       "<matplotlib.figure.Figure at 0x9bea940>"
      ]
     },
     "metadata": {},
     "output_type": "display_data"
    }
   ],
   "source": [
    "robb_def_viz = robb_def.groupby('attacker_outcome').apply(len)\n",
    "robb_def_viz.plot(kind='bar').set_ylabel('# of Battles')"
   ]
  },
  {
   "cell_type": "markdown",
   "metadata": {},
   "source": [
    "We can interpret this data much easier now with these visuals in a couple of ways:\n",
    "\n",
    "* Attacking is a far more effective means to victory than defending\n",
    "* Robb Stark is about as good at attacking as he is terrible at defending\n",
    "\n",
    "Cool. Though looking at just two bars is a little lame. Let's compare some more data!\n",
    "\n",
    "The code below creates a new object called `attacker_win` that groups and measures the victories according to the attacker.\n",
    "Afterwards, the rest is a simple bar plot like before."
   ]
  },
  {
   "cell_type": "code",
   "execution_count": 29,
   "metadata": {
    "collapsed": false
   },
   "outputs": [
    {
     "data": {
      "text/plain": [
       "<matplotlib.text.Text at 0x9efa400>"
      ]
     },
     "execution_count": 29,
     "metadata": {},
     "output_type": "execute_result"
    },
    {
     "data": {
      "image/png": "[encoded data removed]",
      "text/plain": [
       "<matplotlib.figure.Figure at 0x9c369b0>"
      ]
     },
     "metadata": {},
     "output_type": "display_data"
    }
   ],
   "source": [
    "attacker_win = df[df['attacker_outcome'] == 'win'].groupby('attacker_1').apply(len)\n",
    "attacker_win.plot(kind='bar').set_ylabel('# of Victories')"
   ]
  },
  {
   "cell_type": "markdown",
   "metadata": {},
   "source": [
    "We'll *that's* interesting. Turns out that the Greyjoys and the Lannisters are more effective on the attack than the Starks.\n",
    "\n",
    "Let's move onto another popular form of visualization: **scatterplots**.\n",
    "\n",
    "## Scatterploting in Python\n",
    "\n",
    "I was told by a good friend that scatterplots are the best way to visualize data.\n",
    "\n",
    "Let's see if he's right. Let's create one based on the battles that took place in this war, beginning with a research question:\n",
    "\n",
    "1. _Were Robb Stark's armies generally larger than the defenders while attacking?_\n",
    "2. _Were Robb Stark's armies generally smaller than the attackers while defending?_\n",
    "\n",
    "Let's see if we can do all of this _in one scatterplot_.\n",
    "\n",
    "Since we now know that Robb won more often as an attacker than defender, let's see if army size is a factor.\n",
    "\n",
    "**First, let's create our first plot**\n",
    "Let's plot the battles where Robb Stark is a attacking and make that the color **red**. See below:"
   ]
  },
  {
   "cell_type": "code",
   "execution_count": 30,
   "metadata": {
    "collapsed": false
   },
   "outputs": [
    {
     "data": {
      "text/plain": [
       "<matplotlib.collections.PathCollection at 0xa37a1d0>"
      ]
     },
     "execution_count": 30,
     "metadata": {},
     "output_type": "execute_result"
    },
    {
     "data": {
      "image/png": "[encoded data removed]",
      "text/plain": [
       "<matplotlib.figure.Figure at 0xa1c54a8>"
      ]
     },
     "metadata": {},
     "output_type": "display_data"
    }
   ],
   "source": [
    "x = robb_off['attacker_size']\n",
    "y = robb_off['defender_size']\n",
    "plt.scatter(x,y,color='red')"
   ]
  },
  {
   "cell_type": "markdown",
   "metadata": {},
   "source": [
    "Now let's do the same thing with the battles where Robb Stark is defending and make that the color **blue**."
   ]
  },
  {
   "cell_type": "code",
   "execution_count": 31,
   "metadata": {
    "collapsed": false
   },
   "outputs": [
    {
     "data": {
      "text/plain": [
       "<matplotlib.collections.PathCollection at 0xaafb390>"
      ]
     },
     "execution_count": 31,
     "metadata": {},
     "output_type": "execute_result"
    },
    {
     "data": {
      "image/png": "[encoded data removed]",
      "text/plain": [
       "<matplotlib.figure.Figure at 0xa98d710>"
      ]
     },
     "metadata": {},
     "output_type": "display_data"
    }
   ],
   "source": [
    "x = robb_def['defender_size']\n",
    "y = robb_def['attacker_size']\n",
    "plt.scatter(x,y,color='blue')"
   ]
  },
  {
   "cell_type": "markdown",
   "metadata": {},
   "source": [
    "Hm, also interesting, but hard to see how it fits together. We have to run the code in a single Python block to make them all into one cool visual. I've seen added some code to make a \"line of equality\" to give us a sense of what the Starks were truly up against."
   ]
  },
  {
   "cell_type": "code",
   "execution_count": 32,
   "metadata": {
    "collapsed": false
   },
   "outputs": [
    {
     "data": {
      "image/png": "[encoded data removed]",
      "text/plain": [
       "<matplotlib.figure.Figure at 0xaab1b70>"
      ]
     },
     "metadata": {},
     "output_type": "display_data"
    }
   ],
   "source": [
    "x = robb_off['attacker_size']\n",
    "y = robb_off['defender_size']\n",
    "plt.scatter(x,y,color='red')\n",
    "\n",
    "x = robb_def['defender_size']\n",
    "y = robb_def['attacker_size']\n",
    "plt.scatter(x,y,color='blue')\n",
    "\n",
    "plt.title('When Starks Attack')\n",
    "plt.xlabel('Stark Army')\n",
    "plt.ylabel('Defender Army')\n",
    "plt.xlim(0,21000) # x parameters - aim for homogeneous scales\n",
    "plt.ylim(0,21000) # y parameters\n",
    "plt.plot([0,21000],[0,21000],color=\"k\") # line of equality\n",
    "\n",
    "plt.show()"
   ]
  },
  {
   "cell_type": "markdown",
   "metadata": {},
   "source": [
    "Check it out! Especially with the \"line of equality,\" we can make the following conclusions:\n",
    "\n",
    "* The Starks typically faced opponents who had a larger army size than their own.\n",
    "\n",
    "Can we make conclusions about army size AND victory? Not yet. We'll need to redo the data for that, but you should know everything you need to get started on that visualization.\n",
    "\n",
    "### Histograms in Python\n",
    "\n",
    "One last little lesson on visualization is **histograms**, a popular way to show data if you have data with variables that occur frequently. Run the code below to see some of the potential histograms we can create."
   ]
  },
  {
   "cell_type": "code",
   "execution_count": 33,
   "metadata": {
    "collapsed": false
   },
   "outputs": [
    {
     "data": {
      "text/plain": [
       "array([[<matplotlib.axes._subplots.AxesSubplot object at 0x000000000AB15780>,\n",
       "        <matplotlib.axes._subplots.AxesSubplot object at 0x000000000AFB1198>,\n",
       "        <matplotlib.axes._subplots.AxesSubplot object at 0x000000000B02BC50>],\n",
       "       [<matplotlib.axes._subplots.AxesSubplot object at 0x000000000B1233C8>,\n",
       "        <matplotlib.axes._subplots.AxesSubplot object at 0x000000000B223DD8>,\n",
       "        <matplotlib.axes._subplots.AxesSubplot object at 0x000000000B31C630>],\n",
       "       [<matplotlib.axes._subplots.AxesSubplot object at 0x000000000B3B6208>,\n",
       "        <matplotlib.axes._subplots.AxesSubplot object at 0x000000000AE33A58>,\n",
       "        <matplotlib.axes._subplots.AxesSubplot object at 0x000000000AD6CC18>]], dtype=object)"
      ]
     },
     "execution_count": 33,
     "metadata": {},
     "output_type": "execute_result"
    },
    {
     "data": {
      "image/png": "[encoded data removed]",
      "text/plain": [
       "<matplotlib.figure.Figure at 0xabf4c18>"
      ]
     },
     "metadata": {},
     "output_type": "display_data"
    }
   ],
   "source": [
    "df.hist()"
   ]
  },
  {
   "cell_type": "markdown",
   "metadata": {},
   "source": [
    "Hm, that's not all that meaningful to us as a group, but we can focus on one key, such as `year`."
   ]
  },
  {
   "cell_type": "code",
   "execution_count": 34,
   "metadata": {
    "collapsed": false
   },
   "outputs": [
    {
     "data": {
      "text/plain": [
       "array([[<matplotlib.axes._subplots.AxesSubplot object at 0x000000000B9ACD68>]], dtype=object)"
      ]
     },
     "execution_count": 34,
     "metadata": {},
     "output_type": "execute_result"
    },
    {
     "data": {
      "image/png": "[encoded data removed]",
      "text/plain": [
       "<matplotlib.figure.Figure at 0xba51518>"
      ]
     },
     "metadata": {},
     "output_type": "display_data"
    }
   ],
   "source": [
    "df.hist('year')"
   ]
  },
  {
   "cell_type": "markdown",
   "metadata": {},
   "source": [
    "A little more helpful! Here we can see that many of the battles (20) happened in the year 299, with 7 happening the year before and 11 in the year after. (We can use Python to count exactly what these numbers are.\n",
    "\n",
    "Let's also check out how big the attacking armies were by exploring `attacker_size`."
   ]
  },
  {
   "cell_type": "code",
   "execution_count": 43,
   "metadata": {
    "collapsed": false
   },
   "outputs": [
    {
     "data": {
      "text/plain": [
       "array([[<matplotlib.axes._subplots.AxesSubplot object at 0x000000000D7CF278>]], dtype=object)"
      ]
     },
     "execution_count": 43,
     "metadata": {},
     "output_type": "execute_result"
    },
    {
     "data": {
      "image/png": "[encoded data removed]",
      "text/plain": [
       "<matplotlib.figure.Figure at 0xd858860>"
      ]
     },
     "metadata": {},
     "output_type": "display_data"
    }
   ],
   "source": [
    "df.hist('attacker_size')"
   ]
  },
  {
   "cell_type": "markdown",
   "metadata": {},
   "source": [
    "With one outlier, it looks like most of the armies were less than 30,000 in troop size. _Which army was the largest?_\n",
    "\n",
    "## SANDBOX TIME!\n",
    "\n",
    "Even with such a small dataset, there are a number of questions you can answer as well as Python commands to explore.\n",
    "\n",
    "I strongly recommend checking out this documentation here: http://pandas.pydata.org/pandas-docs/stable/\n",
    "\n",
    "Keep testing this notebook with the commands and see what happens!\n",
    "\n",
    "## YOU DID IT! YOU'RE A DATA SCIENTIST!\n",
    "\n",
    "Well, kind of. There's a lot more to it than that. Depending on your learning style, there are a lot of directions I can point you in to help you build your skills. Feel free to reach out to me via GitHub or at my personal email: lee-dot-ngo-at-gmail-dot-com. (Please don't be a robot.)\n",
    "\n",
    "\n",
    "# About this Course's Author \n",
    "\n",
    "**Lee Ngo** is a self-described 'Education Technology Community Architect,' and is perpetually passionate about inclusivity, engagement, and empathy in spaces of professional advancement. Lee serves as national data science evangelist for Metis. Previously, Lee served as an evangelist for Galvanize based in Seattle. Previously he worked for UP Global (now Techstars) and founded his own ed-tech company in Pittsburgh, PA. Lee believes in learning by doing, engaging and sharing, and he teaches code through a combination of visual communication, teamwork, and project-oriented learning.\n",
    "\n",
    "You can email him at lee-dot-ngo-at-gmail-dot-com for any further questions.\n",
    "\n",
    "Disclaimer: This lesson is entirely open-source, unaffilated with any other entities and intended for educational and entertain purposes. The data used remains unchanged from its initial source out of respect to its author and the inspired material. Please feel free to fork, clone, remake, sample, and enjoy as your please under the MIT License."
   ]
  },
  {
   "cell_type": "code",
   "execution_count": null,
   "metadata": {
    "collapsed": true
   },
   "outputs": [],
   "source": []
  }
 ],
 "metadata": {
  "kernelspec": {
   "display_name": "Python 2",
   "language": "python",
   "name": "python2"
  },
  "language_info": {
   "codemirror_mode": {
    "name": "ipython",
    "version": 2
   },
   "file_extension": ".py",
   "mimetype": "text/x-python",
   "name": "python",
   "nbconvert_exporter": "python",
   "pygments_lexer": "ipython2",
   "version": "2.7.13"
  }
 },
 "nbformat": 4,
 "nbformat_minor": 2
}
